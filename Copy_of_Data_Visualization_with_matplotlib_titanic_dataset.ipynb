{
  "nbformat": 4,
  "nbformat_minor": 0,
  "metadata": {
    "kernelspec": {
      "display_name": "Python 3",
      "language": "python",
      "name": "python3"
    },
    "language_info": {
      "codemirror_mode": {
        "name": "ipython",
        "version": 3
      },
      "file_extension": ".py",
      "mimetype": "text/x-python",
      "name": "python",
      "nbconvert_exporter": "python",
      "pygments_lexer": "ipython3",
      "version": "3.7.4"
    },
    "colab": {
      "name": "Copy of Data Visualization with matplotlib-titanic-dataset.ipynb",
      "provenance": [],
      "include_colab_link": true
    }
  },
  "cells": [
    {
      "cell_type": "markdown",
      "metadata": {
        "id": "view-in-github",
        "colab_type": "text"
      },
      "source": [
        "<a href=\"https://colab.research.google.com/github/JoyUgoyah/SchoolofAI-pmlcourse-matplotlib/blob/master/Copy_of_Data_Visualization_with_matplotlib_titanic_dataset.ipynb\" target=\"_parent\"><img src=\"https://colab.research.google.com/assets/colab-badge.svg\" alt=\"Open In Colab\"/></a>"
      ]
    },
    {
      "cell_type": "code",
      "metadata": {
        "id": "jcuT59cVFhsK",
        "colab_type": "code",
        "outputId": "340ca26d-0352-4164-c102-b2ccfdbb6286",
        "colab": {}
      },
      "source": [
        "import csv\n",
        "with open('train_titanic (1).csv','r') as titanic:\n",
        "    csv_dict_r=csv.DictReader(titanic)\n",
        "    male_survived={'Yes':0, 'No':0} #intializes a dictionary that indicates the number of cases for the two outcomes\n",
        "    female_survived={'Yes':0, 'No':0}\n",
        "    for row in csv_dict_r:\n",
        "        if row['Sex']=='male' and row['Survived']=='1':\n",
        "            male_survived['Yes'] +=1 #increaments the earlier declared dictionary value\n",
        "        elif row['Sex']=='male' and row['Survived']=='0':\n",
        "            male_survived['No'] +=1\n",
        "        elif row['Sex']=='female' and row['Survived']=='1':\n",
        "            female_survived['Yes'] +=1\n",
        "        elif row['Sex']=='female' and row['Survived']=='0':\n",
        "            female_survived['No'] +=1\n",
        "print('Male:',male_survived)\n",
        "print('Female:',female_survived)"
      ],
      "execution_count": 0,
      "outputs": [
        {
          "output_type": "stream",
          "text": [
            "Male: {'Yes': 109, 'No': 468}\n",
            "Female: {'Yes': 233, 'No': 81}\n"
          ],
          "name": "stdout"
        }
      ]
    },
    {
      "cell_type": "code",
      "metadata": {
        "id": "RqYoifkcFhsa",
        "colab_type": "code",
        "outputId": "045c2456-f856-4ab9-e964-ab2c519a303e",
        "colab": {}
      },
      "source": [
        "import matplotlib.pyplot as plt\n",
        "%matplotlib inline\n",
        "plt.bar([1,2], male_survived.values(), label= 'Male', width=0.4) #This creates a composite barchart\n",
        "plt.bar([1.4,2.4], female_survived.values(), label= 'Female', width=0.4)#The first item in the bracket indicates the position of the bar\n",
        "plt.title('Survival on Titanic', size=14)\n",
        "plt.xticks([1.2,2.2],['Survived','Did not survive'])\n",
        "#the list of numbers used on the x-axis helps in the creation of a component bar chart\n",
        "plt.legend()"
      ],
      "execution_count": 0,
      "outputs": [
        {
          "output_type": "execute_result",
          "data": {
            "text/plain": [
              "<matplotlib.legend.Legend at 0x15c79e60188>"
            ]
          },
          "metadata": {
            "tags": []
          },
          "execution_count": 5
        },
        {
          "output_type": "display_data",
          "data": {
            "image/png": "[encoded data removed]",
            "text/plain": [
              "<Figure size 432x288 with 1 Axes>"
            ]
          },
          "metadata": {
            "tags": [],
            "needs_background": "light"
          }
        }
      ]
    },
    {
      "cell_type": "markdown",
      "metadata": {
        "id": "TMRkZCufFhsj",
        "colab_type": "text"
      },
      "source": [
        "From the visualization of the data above, it can be observed that, the total number of males on board was way more than the females. However, more females than males survived the incident, this could have been due to a number of factors such as the males being chivalrous and sacrificing their lives to save the females, or simply that women can swim better in the sea than men, it could also be that men were found more in the parts of the ship that were more affected by the storm.  "
      ]
    },
    {
      "cell_type": "code",
      "metadata": {
        "id": "W_gMQxF0Fhsl",
        "colab_type": "code",
        "colab": {}
      },
      "source": [
        ""
      ],
      "execution_count": 0,
      "outputs": []
    }
  ]
}